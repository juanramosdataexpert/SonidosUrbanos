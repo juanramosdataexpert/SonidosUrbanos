{
 "cells": [
  {
   "cell_type": "markdown",
   "metadata": {},
   "source": [
    "# Contents\n",
    "\n",
    "TODO: Create content table"
   ]
  },
  {
   "cell_type": "markdown",
   "metadata": {},
   "source": [
    "# Initial Exploration"
   ]
  },
  {
   "cell_type": "code",
   "execution_count": 106,
   "metadata": {},
   "outputs": [],
   "source": [
    "# Import needed libraries\n",
    "import pandas as pd"
   ]
  },
  {
   "cell_type": "code",
   "execution_count": 107,
   "metadata": {},
   "outputs": [
    {
     "data": {
      "text/html": [
       "<div>\n",
       "<style scoped>\n",
       "    .dataframe tbody tr th:only-of-type {\n",
       "        vertical-align: middle;\n",
       "    }\n",
       "\n",
       "    .dataframe tbody tr th {\n",
       "        vertical-align: top;\n",
       "    }\n",
       "\n",
       "    .dataframe thead th {\n",
       "        text-align: right;\n",
       "    }\n",
       "</style>\n",
       "<table border=\"1\" class=\"dataframe\">\n",
       "  <thead>\n",
       "    <tr style=\"text-align: right;\">\n",
       "      <th></th>\n",
       "      <th>userID</th>\n",
       "      <th>Track</th>\n",
       "      <th>artist</th>\n",
       "      <th>genre</th>\n",
       "      <th>City</th>\n",
       "      <th>time</th>\n",
       "      <th>Day</th>\n",
       "    </tr>\n",
       "  </thead>\n",
       "  <tbody>\n",
       "    <tr>\n",
       "      <th>33098</th>\n",
       "      <td>206D3BB2</td>\n",
       "      <td>Summertime</td>\n",
       "      <td>Shelly Manne &amp; His Men</td>\n",
       "      <td>jazz</td>\n",
       "      <td>Springfield</td>\n",
       "      <td>20:52:29</td>\n",
       "      <td>Monday</td>\n",
       "    </tr>\n",
       "    <tr>\n",
       "      <th>53630</th>\n",
       "      <td>8BE7EE1B</td>\n",
       "      <td>In Time</td>\n",
       "      <td>Lake Jons</td>\n",
       "      <td>alternative</td>\n",
       "      <td>Springfield</td>\n",
       "      <td>13:34:52</td>\n",
       "      <td>Monday</td>\n",
       "    </tr>\n",
       "  </tbody>\n",
       "</table>\n",
       "</div>"
      ],
      "text/plain": [
       "         userID       Track                  artist        genre       City    \\\n",
       "33098  206D3BB2  Summertime  Shelly Manne & His Men         jazz  Springfield   \n",
       "53630  8BE7EE1B     In Time               Lake Jons  alternative  Springfield   \n",
       "\n",
       "           time     Day  \n",
       "33098  20:52:29  Monday  \n",
       "53630  13:34:52  Monday  "
      ]
     },
     "execution_count": 107,
     "metadata": {},
     "output_type": "execute_result"
    }
   ],
   "source": [
    "# Read raw file with data and show two random rows\n",
    "df = pd.read_csv('../Data/Raw/music_project_en.csv')\n",
    "df.sample(2)"
   ]
  },
  {
   "cell_type": "code",
   "execution_count": 108,
   "metadata": {},
   "outputs": [
    {
     "name": "stdout",
     "output_type": "stream",
     "text": [
      "<class 'pandas.core.frame.DataFrame'>\n",
      "RangeIndex: 65079 entries, 0 to 65078\n",
      "Data columns (total 7 columns):\n",
      " #   Column    Non-Null Count  Dtype \n",
      "---  ------    --------------  ----- \n",
      " 0     userID  65079 non-null  object\n",
      " 1   Track     63736 non-null  object\n",
      " 2   artist    57512 non-null  object\n",
      " 3   genre     63881 non-null  object\n",
      " 4     City    65079 non-null  object\n",
      " 5   time      65079 non-null  object\n",
      " 6   Day       65079 non-null  object\n",
      "dtypes: object(7)\n",
      "memory usage: 3.5+ MB\n"
     ]
    }
   ],
   "source": [
    "# Show the general information of the dataframe\n",
    "df.info()"
   ]
  },
  {
   "cell_type": "markdown",
   "metadata": {},
   "source": [
    "# Fix problems\n",
    "\n",
    "- Make sure the column names are correctly written and correct mean.\n",
    "- Make sure the rows are well written on every column"
   ]
  },
  {
   "cell_type": "code",
   "execution_count": 109,
   "metadata": {},
   "outputs": [
    {
     "data": {
      "text/plain": [
       "Index(['User_ID', 'Track', 'Artist', 'Genre', 'City', 'Hour_of_Play',\n",
       "       'Day_of_the_Week'],\n",
       "      dtype='object')"
      ]
     },
     "execution_count": 109,
     "metadata": {},
     "output_type": "execute_result"
    }
   ],
   "source": [
    "# Fix bad spaces, capital letters and mean manually\n",
    "df.columns = ['User_ID', 'Track', 'Artist', 'Genre',\n",
    "              'City', 'Hour_of_Play', 'Day_of_the_Week']\n",
    "df.columns"
   ]
  },
  {
   "cell_type": "code",
   "execution_count": 110,
   "metadata": {},
   "outputs": [
    {
     "data": {
      "text/html": [
       "<div>\n",
       "<style scoped>\n",
       "    .dataframe tbody tr th:only-of-type {\n",
       "        vertical-align: middle;\n",
       "    }\n",
       "\n",
       "    .dataframe tbody tr th {\n",
       "        vertical-align: top;\n",
       "    }\n",
       "\n",
       "    .dataframe thead th {\n",
       "        text-align: right;\n",
       "    }\n",
       "</style>\n",
       "<table border=\"1\" class=\"dataframe\">\n",
       "  <thead>\n",
       "    <tr style=\"text-align: right;\">\n",
       "      <th></th>\n",
       "      <th>User_ID</th>\n",
       "      <th>Track</th>\n",
       "      <th>Artist</th>\n",
       "    </tr>\n",
       "  </thead>\n",
       "  <tbody>\n",
       "    <tr>\n",
       "      <th>20537</th>\n",
       "      <td>E8CCA6AE</td>\n",
       "      <td>Nobody Like You</td>\n",
       "      <td>The Polecats</td>\n",
       "    </tr>\n",
       "    <tr>\n",
       "      <th>31059</th>\n",
       "      <td>9D68CF00</td>\n",
       "      <td>Refreshing Rain</td>\n",
       "      <td>Zen Meditation and Natural White Noise and New...</td>\n",
       "    </tr>\n",
       "    <tr>\n",
       "      <th>11136</th>\n",
       "      <td>9FB58A7C</td>\n",
       "      <td>My Heart Will Go On</td>\n",
       "      <td>NaN</td>\n",
       "    </tr>\n",
       "    <tr>\n",
       "      <th>34276</th>\n",
       "      <td>F0F58500</td>\n",
       "      <td>Barber: Adagio For Strings Op.11/2</td>\n",
       "      <td>Baltimore Symphony Orchestra</td>\n",
       "    </tr>\n",
       "    <tr>\n",
       "      <th>61321</th>\n",
       "      <td>9D4C9F64</td>\n",
       "      <td>Time Is On Your Side</td>\n",
       "      <td>Stadiumx</td>\n",
       "    </tr>\n",
       "    <tr>\n",
       "      <th>4389</th>\n",
       "      <td>A010EB7E</td>\n",
       "      <td>Act II - \"Music for a While\"</td>\n",
       "      <td>NaN</td>\n",
       "    </tr>\n",
       "    <tr>\n",
       "      <th>21240</th>\n",
       "      <td>8E93BDE9</td>\n",
       "      <td>Headspace</td>\n",
       "      <td>Thomston</td>\n",
       "    </tr>\n",
       "    <tr>\n",
       "      <th>43388</th>\n",
       "      <td>689AD412</td>\n",
       "      <td>Go</td>\n",
       "      <td>Amazing</td>\n",
       "    </tr>\n",
       "    <tr>\n",
       "      <th>20590</th>\n",
       "      <td>1382220A</td>\n",
       "      <td>Everybody</td>\n",
       "      <td>Irma</td>\n",
       "    </tr>\n",
       "    <tr>\n",
       "      <th>62253</th>\n",
       "      <td>686E00B7</td>\n",
       "      <td>Make Love</td>\n",
       "      <td>Taeyang</td>\n",
       "    </tr>\n",
       "  </tbody>\n",
       "</table>\n",
       "</div>"
      ],
      "text/plain": [
       "        User_ID                               Track  \\\n",
       "20537  E8CCA6AE                     Nobody Like You   \n",
       "31059  9D68CF00                     Refreshing Rain   \n",
       "11136  9FB58A7C                 My Heart Will Go On   \n",
       "34276  F0F58500  Barber: Adagio For Strings Op.11/2   \n",
       "61321  9D4C9F64                Time Is On Your Side   \n",
       "4389   A010EB7E        Act II - \"Music for a While\"   \n",
       "21240  8E93BDE9                           Headspace   \n",
       "43388  689AD412                                  Go   \n",
       "20590  1382220A                           Everybody   \n",
       "62253  686E00B7                           Make Love   \n",
       "\n",
       "                                                  Artist  \n",
       "20537                                       The Polecats  \n",
       "31059  Zen Meditation and Natural White Noise and New...  \n",
       "11136                                                NaN  \n",
       "34276                       Baltimore Symphony Orchestra  \n",
       "61321                                           Stadiumx  \n",
       "4389                                                 NaN  \n",
       "21240                                           Thomston  \n",
       "43388                                            Amazing  \n",
       "20590                                               Irma  \n",
       "62253                                            Taeyang  "
      ]
     },
     "execution_count": 110,
     "metadata": {},
     "output_type": "execute_result"
    }
   ],
   "source": [
    "# Write 10 samples of the first three columns\n",
    "df[['User_ID', 'Track', 'Artist']].sample(10)"
   ]
  },
  {
   "cell_type": "code",
   "execution_count": 111,
   "metadata": {},
   "outputs": [
    {
     "name": "stdout",
     "output_type": "stream",
     "text": [
      "The column User_ID has 41748 unique and 0 null values.\n",
      "The column Track has 39666 unique and 1343 null values.\n",
      "The column Artist has 37806 unique and 7567 null values.\n"
     ]
    }
   ],
   "source": [
    "# Count unique records and null values of the columns\n",
    "for col in ['User_ID', 'Track', 'Artist']:\n",
    "    print(\n",
    "        f'The column {col} has {df[col].nunique()} unique and {df[col].isna().sum()} null values.')"
   ]
  },
  {
   "cell_type": "markdown",
   "metadata": {},
   "source": [
    "The columns `User_ID` has 41.748 unique records of 8 characters, some of them are 7 but we asume the first number is 0 and that there are no problems with the format.\n",
    "\n",
    "The track and artist name correspond to the way the distributor filled the form. We are more concerned with the way that we found many null values, that we are going to fill later."
   ]
  },
  {
   "cell_type": "code",
   "execution_count": 112,
   "metadata": {},
   "outputs": [
    {
     "data": {
      "text/plain": [
       "9806      country\n",
       "7613         folk\n",
       "26683       world\n",
       "35300    eurofolk\n",
       "26931       latin\n",
       "20104        drum\n",
       "20199         pop\n",
       "49558       dance\n",
       "30231         pop\n",
       "50150       dance\n",
       "Name: Genre, dtype: object"
      ]
     },
     "execution_count": 112,
     "metadata": {},
     "output_type": "execute_result"
    }
   ],
   "source": [
    "# Write 10 samples of the column 'Genre'\n",
    "df['Genre'].sample(10)"
   ]
  },
  {
   "cell_type": "code",
   "execution_count": 113,
   "metadata": {},
   "outputs": [
    {
     "ename": "TypeError",
     "evalue": "'<' not supported between instances of 'float' and 'str'",
     "output_type": "error",
     "traceback": [
      "\u001b[1;31m---------------------------------------------------------------------------\u001b[0m",
      "\u001b[1;31mTypeError\u001b[0m                                 Traceback (most recent call last)",
      "Cell \u001b[1;32mIn[113], line 2\u001b[0m\n\u001b[0;32m      1\u001b[0m \u001b[38;5;66;03m# Search for implicit duplicates\u001b[39;00m\n\u001b[1;32m----> 2\u001b[0m \u001b[38;5;28msorted\u001b[39m(df[\u001b[38;5;124m'\u001b[39m\u001b[38;5;124mGenre\u001b[39m\u001b[38;5;124m'\u001b[39m]\u001b[38;5;241m.\u001b[39munique())\n",
      "\u001b[1;31mTypeError\u001b[0m: '<' not supported between instances of 'float' and 'str'"
     ]
    }
   ],
   "source": [
    "# Search for implicit duplicates\n",
    "sorted(df['Genre'].unique())"
   ]
  },
  {
   "cell_type": "code",
   "execution_count": null,
   "metadata": {},
   "outputs": [],
   "source": [
    "# Change the genres of 'hip' and 'hop' for 'hiphop'\n",
    "df['Genre'].replace({'hip': 'Hip-Hop',\n",
    "                     'hop': 'Hip-Hop',\n",
    "                     'hiphop': 'Hip-Hop'},\n",
    "                    inplace=True)\n",
    "\n",
    "# Format record with the first capital letter\n",
    "df['Genre'] = df['Genre'].apply(lambda x: str(x).title())"
   ]
  },
  {
   "cell_type": "markdown",
   "metadata": {},
   "source": [
    "We had to change the format and write the first letter of the genre in capital letters. And we search for explicit duplicates when we found the word `hip` as a genre."
   ]
  },
  {
   "cell_type": "code",
   "execution_count": null,
   "metadata": {},
   "outputs": [
    {
     "data": {
      "text/html": [
       "<div>\n",
       "<style scoped>\n",
       "    .dataframe tbody tr th:only-of-type {\n",
       "        vertical-align: middle;\n",
       "    }\n",
       "\n",
       "    .dataframe tbody tr th {\n",
       "        vertical-align: top;\n",
       "    }\n",
       "\n",
       "    .dataframe thead th {\n",
       "        text-align: right;\n",
       "    }\n",
       "</style>\n",
       "<table border=\"1\" class=\"dataframe\">\n",
       "  <thead>\n",
       "    <tr style=\"text-align: right;\">\n",
       "      <th></th>\n",
       "      <th>City</th>\n",
       "      <th>Hour_of_Play</th>\n",
       "      <th>Day_of_the_Week</th>\n",
       "    </tr>\n",
       "  </thead>\n",
       "  <tbody>\n",
       "    <tr>\n",
       "      <th>12019</th>\n",
       "      <td>Springfield</td>\n",
       "      <td>20:41:21</td>\n",
       "      <td>Monday</td>\n",
       "    </tr>\n",
       "    <tr>\n",
       "      <th>49490</th>\n",
       "      <td>Shelbyville</td>\n",
       "      <td>21:24:49</td>\n",
       "      <td>Monday</td>\n",
       "    </tr>\n",
       "    <tr>\n",
       "      <th>57460</th>\n",
       "      <td>Springfield</td>\n",
       "      <td>20:40:30</td>\n",
       "      <td>Monday</td>\n",
       "    </tr>\n",
       "    <tr>\n",
       "      <th>51267</th>\n",
       "      <td>Shelbyville</td>\n",
       "      <td>14:15:57</td>\n",
       "      <td>Friday</td>\n",
       "    </tr>\n",
       "    <tr>\n",
       "      <th>47546</th>\n",
       "      <td>Springfield</td>\n",
       "      <td>08:26:31</td>\n",
       "      <td>Monday</td>\n",
       "    </tr>\n",
       "    <tr>\n",
       "      <th>63725</th>\n",
       "      <td>Shelbyville</td>\n",
       "      <td>09:59:50</td>\n",
       "      <td>Friday</td>\n",
       "    </tr>\n",
       "    <tr>\n",
       "      <th>51937</th>\n",
       "      <td>Springfield</td>\n",
       "      <td>09:30:38</td>\n",
       "      <td>Friday</td>\n",
       "    </tr>\n",
       "    <tr>\n",
       "      <th>60513</th>\n",
       "      <td>Springfield</td>\n",
       "      <td>20:25:06</td>\n",
       "      <td>Monday</td>\n",
       "    </tr>\n",
       "    <tr>\n",
       "      <th>59513</th>\n",
       "      <td>Springfield</td>\n",
       "      <td>08:34:20</td>\n",
       "      <td>Monday</td>\n",
       "    </tr>\n",
       "    <tr>\n",
       "      <th>14161</th>\n",
       "      <td>Springfield</td>\n",
       "      <td>13:05:28</td>\n",
       "      <td>Monday</td>\n",
       "    </tr>\n",
       "  </tbody>\n",
       "</table>\n",
       "</div>"
      ],
      "text/plain": [
       "              City Hour_of_Play Day_of_the_Week\n",
       "12019  Springfield     20:41:21          Monday\n",
       "49490  Shelbyville     21:24:49          Monday\n",
       "57460  Springfield     20:40:30          Monday\n",
       "51267  Shelbyville     14:15:57          Friday\n",
       "47546  Springfield     08:26:31          Monday\n",
       "63725  Shelbyville     09:59:50          Friday\n",
       "51937  Springfield     09:30:38          Friday\n",
       "60513  Springfield     20:25:06          Monday\n",
       "59513  Springfield     08:34:20          Monday\n",
       "14161  Springfield     13:05:28          Monday"
      ]
     },
     "execution_count": 87,
     "metadata": {},
     "output_type": "execute_result"
    }
   ],
   "source": [
    "# Write 10 samples of the three last columns\n",
    "df[['City', 'Hour_of_Play', 'Day_of_the_Week']].sample(10)"
   ]
  },
  {
   "cell_type": "markdown",
   "metadata": {},
   "source": [
    "The last three columns have no problem. Maybe we will have to change the type of data later, but it is not something that require our attention now."
   ]
  },
  {
   "cell_type": "markdown",
   "metadata": {},
   "source": [
    "# Improve the data\n",
    "\n",
    "We will fix the null values, the duplicates and finally improve the type of data for each column."
   ]
  },
  {
   "cell_type": "code",
   "execution_count": null,
   "metadata": {},
   "outputs": [
    {
     "data": {
      "text/plain": [
       "User_ID               0\n",
       "Track              1343\n",
       "Artist             7567\n",
       "Genre                 0\n",
       "City                  0\n",
       "Hour_of_Play          0\n",
       "Day_of_the_Week       0\n",
       "dtype: int64"
      ]
     },
     "execution_count": 88,
     "metadata": {},
     "output_type": "execute_result"
    }
   ],
   "source": [
    "# Sum null values from the DataFrame\n",
    "df.isna().sum()"
   ]
  },
  {
   "cell_type": "code",
   "execution_count": null,
   "metadata": {},
   "outputs": [],
   "source": [
    "# Fill null values of 'Track' and 'Artist'\n",
    "df.fillna('Unknown', inplace=True)"
   ]
  },
  {
   "cell_type": "code",
   "execution_count": null,
   "metadata": {},
   "outputs": [],
   "source": [
    "# Search for problem duplicates\n",
    "df.duplicated(subset=['User_ID', 'Hour_of_Play']).sum()\n",
    "df.drop_duplicates(subset=['User_ID', 'Hour_of_Play'], inplace=True)"
   ]
  },
  {
   "cell_type": "code",
   "execution_count": null,
   "metadata": {},
   "outputs": [
    {
     "data": {
      "text/plain": [
       "0"
      ]
     },
     "execution_count": 96,
     "metadata": {},
     "output_type": "execute_result"
    }
   ],
   "source": [
    "# Search for other duplicates\n",
    "df.duplicated().sum()"
   ]
  },
  {
   "cell_type": "code",
   "execution_count": 114,
   "metadata": {},
   "outputs": [],
   "source": [
    "# Confirm the type of 'Hour_of_Play'\n",
    "df['Hour_of_Play'] = (pd.to_datetime(df['Hour_of_Play'], format='%H:%M:%S')\n",
    "                      .dt.time)"
   ]
  },
  {
   "cell_type": "markdown",
   "metadata": {},
   "source": [
    "We only found null values in the columns `Track` and `Artist` but it does not affect our analysis so we kept them and change the NaN value for the string `Unknown` and now we have 0 null values.\n",
    "\n",
    "Then we found some records when the same user `User_ID` played two songs at the same time `Hour_of_Play` which is not possible, so we delete them and kept just the first record. After, we search for other duplicates but there are not.\n",
    "\n",
    "Finally we confirm that the column `Hour_of_Play` was type `datetime` for the analysis."
   ]
  },
  {
   "cell_type": "markdown",
   "metadata": {},
   "source": []
  }
 ],
 "metadata": {
  "kernelspec": {
   "display_name": "base",
   "language": "python",
   "name": "python3"
  },
  "language_info": {
   "codemirror_mode": {
    "name": "ipython",
    "version": 3
   },
   "file_extension": ".py",
   "mimetype": "text/x-python",
   "name": "python",
   "nbconvert_exporter": "python",
   "pygments_lexer": "ipython3",
   "version": "3.11.7"
  }
 },
 "nbformat": 4,
 "nbformat_minor": 2
}
