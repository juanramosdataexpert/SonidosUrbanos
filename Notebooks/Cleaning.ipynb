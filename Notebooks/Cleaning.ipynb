{
 "cells": [
  {
   "cell_type": "markdown",
   "metadata": {},
   "source": [
    "# <span style=\"color:#0F19C9\">Contents</span>\n",
    "\n",
    "- [Initial exploration](#initial-exploration)\n",
    "- [Fixing problems](#fixing-problems)\n",
    "- [Improving the data](#improving-the-data)"
   ]
  },
  {
   "cell_type": "markdown",
   "metadata": {},
   "source": [
    "# <span style=\"color:#0F19C9\">Initial Exploration</span>"
   ]
  },
  {
   "cell_type": "code",
   "execution_count": 18,
   "metadata": {},
   "outputs": [],
   "source": [
    "# Import needed libraries\n",
    "import pandas as pd"
   ]
  },
  {
   "cell_type": "code",
   "execution_count": 19,
   "metadata": {},
   "outputs": [
    {
     "data": {
      "text/html": [
       "<div>\n",
       "<style scoped>\n",
       "    .dataframe tbody tr th:only-of-type {\n",
       "        vertical-align: middle;\n",
       "    }\n",
       "\n",
       "    .dataframe tbody tr th {\n",
       "        vertical-align: top;\n",
       "    }\n",
       "\n",
       "    .dataframe thead th {\n",
       "        text-align: right;\n",
       "    }\n",
       "</style>\n",
       "<table border=\"1\" class=\"dataframe\">\n",
       "  <thead>\n",
       "    <tr style=\"text-align: right;\">\n",
       "      <th></th>\n",
       "      <th>userID</th>\n",
       "      <th>Track</th>\n",
       "      <th>artist</th>\n",
       "      <th>genre</th>\n",
       "      <th>City</th>\n",
       "      <th>time</th>\n",
       "      <th>Day</th>\n",
       "    </tr>\n",
       "  </thead>\n",
       "  <tbody>\n",
       "    <tr>\n",
       "      <th>43608</th>\n",
       "      <td>B0BA4461</td>\n",
       "      <td>Football et poésie pt. 2</td>\n",
       "      <td>Matthieu Chedid</td>\n",
       "      <td>pop</td>\n",
       "      <td>Springfield</td>\n",
       "      <td>08:01:21</td>\n",
       "      <td>Monday</td>\n",
       "    </tr>\n",
       "    <tr>\n",
       "      <th>49514</th>\n",
       "      <td>CDE328F8</td>\n",
       "      <td>Bye Bye Love</td>\n",
       "      <td>NaN</td>\n",
       "      <td>pop</td>\n",
       "      <td>Springfield</td>\n",
       "      <td>20:17:21</td>\n",
       "      <td>Monday</td>\n",
       "    </tr>\n",
       "  </tbody>\n",
       "</table>\n",
       "</div>"
      ],
      "text/plain": [
       "         userID                     Track           artist genre       City    \\\n",
       "43608  B0BA4461  Football et poésie pt. 2  Matthieu Chedid   pop  Springfield   \n",
       "49514  CDE328F8              Bye Bye Love              NaN   pop  Springfield   \n",
       "\n",
       "           time     Day  \n",
       "43608  08:01:21  Monday  \n",
       "49514  20:17:21  Monday  "
      ]
     },
     "execution_count": 19,
     "metadata": {},
     "output_type": "execute_result"
    }
   ],
   "source": [
    "# Read raw file with data and show two random rows\n",
    "df = pd.read_csv('../Data/Raw/music_project_en.csv')\n",
    "df.sample(2)"
   ]
  },
  {
   "cell_type": "code",
   "execution_count": 20,
   "metadata": {},
   "outputs": [
    {
     "name": "stdout",
     "output_type": "stream",
     "text": [
      "<class 'pandas.core.frame.DataFrame'>\n",
      "RangeIndex: 65079 entries, 0 to 65078\n",
      "Data columns (total 7 columns):\n",
      " #   Column    Non-Null Count  Dtype \n",
      "---  ------    --------------  ----- \n",
      " 0     userID  65079 non-null  object\n",
      " 1   Track     63736 non-null  object\n",
      " 2   artist    57512 non-null  object\n",
      " 3   genre     63881 non-null  object\n",
      " 4     City    65079 non-null  object\n",
      " 5   time      65079 non-null  object\n",
      " 6   Day       65079 non-null  object\n",
      "dtypes: object(7)\n",
      "memory usage: 3.5+ MB\n"
     ]
    }
   ],
   "source": [
    "# Show the general information of the dataframe\n",
    "df.info()"
   ]
  },
  {
   "cell_type": "markdown",
   "metadata": {},
   "source": [
    "# <span style=\"color:#0F19C9\">Fixing problems</span>\n",
    "\n",
    "- Make sure the column names are correctly written and correct mean.\n",
    "- Make sure the rows are well written on every column"
   ]
  },
  {
   "cell_type": "code",
   "execution_count": 21,
   "metadata": {},
   "outputs": [
    {
     "data": {
      "text/plain": [
       "Index(['User_ID', 'Track', 'Artist', 'Genre', 'City', 'Hour_of_Play',\n",
       "       'Day_of_the_Week'],\n",
       "      dtype='object')"
      ]
     },
     "execution_count": 21,
     "metadata": {},
     "output_type": "execute_result"
    }
   ],
   "source": [
    "# Fix bad spaces, capital letters and mean manually\n",
    "df.columns = ['User_ID', 'Track', 'Artist', 'Genre',\n",
    "              'City', 'Hour_of_Play', 'Day_of_the_Week']\n",
    "df.columns"
   ]
  },
  {
   "cell_type": "code",
   "execution_count": 22,
   "metadata": {},
   "outputs": [
    {
     "data": {
      "text/html": [
       "<div>\n",
       "<style scoped>\n",
       "    .dataframe tbody tr th:only-of-type {\n",
       "        vertical-align: middle;\n",
       "    }\n",
       "\n",
       "    .dataframe tbody tr th {\n",
       "        vertical-align: top;\n",
       "    }\n",
       "\n",
       "    .dataframe thead th {\n",
       "        text-align: right;\n",
       "    }\n",
       "</style>\n",
       "<table border=\"1\" class=\"dataframe\">\n",
       "  <thead>\n",
       "    <tr style=\"text-align: right;\">\n",
       "      <th></th>\n",
       "      <th>User_ID</th>\n",
       "      <th>Track</th>\n",
       "      <th>Artist</th>\n",
       "      <th>Genre</th>\n",
       "    </tr>\n",
       "  </thead>\n",
       "  <tbody>\n",
       "    <tr>\n",
       "      <th>23727</th>\n",
       "      <td>F0CF11C1</td>\n",
       "      <td>Autumn Dream</td>\n",
       "      <td>Joyce</td>\n",
       "      <td>classical</td>\n",
       "    </tr>\n",
       "    <tr>\n",
       "      <th>29673</th>\n",
       "      <td>3AD83567</td>\n",
       "      <td>Unstable</td>\n",
       "      <td>Chaotica</td>\n",
       "      <td>rock</td>\n",
       "    </tr>\n",
       "    <tr>\n",
       "      <th>24201</th>\n",
       "      <td>23F6CE9</td>\n",
       "      <td>Have A Little Faith In Me</td>\n",
       "      <td>John Hiatt</td>\n",
       "      <td>pop</td>\n",
       "    </tr>\n",
       "    <tr>\n",
       "      <th>28644</th>\n",
       "      <td>55D3CE3D</td>\n",
       "      <td>This Is a Way</td>\n",
       "      <td>David Choi</td>\n",
       "      <td>pop</td>\n",
       "    </tr>\n",
       "    <tr>\n",
       "      <th>46318</th>\n",
       "      <td>C5CE21AB</td>\n",
       "      <td>I Need Somebody</td>\n",
       "      <td>Emma Muscat</td>\n",
       "      <td>pop</td>\n",
       "    </tr>\n",
       "    <tr>\n",
       "      <th>42597</th>\n",
       "      <td>B4910255</td>\n",
       "      <td>The Final Thing on My Mind</td>\n",
       "      <td>The Pineapple Thief</td>\n",
       "      <td>rock</td>\n",
       "    </tr>\n",
       "    <tr>\n",
       "      <th>27924</th>\n",
       "      <td>708216EC</td>\n",
       "      <td>Automatic</td>\n",
       "      <td>Dead Disco</td>\n",
       "      <td>rock</td>\n",
       "    </tr>\n",
       "    <tr>\n",
       "      <th>35164</th>\n",
       "      <td>EE36C51B</td>\n",
       "      <td>Take Me Into Your Skin</td>\n",
       "      <td>Trentemöller</td>\n",
       "      <td>electronic</td>\n",
       "    </tr>\n",
       "    <tr>\n",
       "      <th>54107</th>\n",
       "      <td>9E1B2FEF</td>\n",
       "      <td>Rapper Shot</td>\n",
       "      <td>Don Streat</td>\n",
       "      <td>rap</td>\n",
       "    </tr>\n",
       "    <tr>\n",
       "      <th>34669</th>\n",
       "      <td>D8F9AEEE</td>\n",
       "      <td>Conrad Tokyo</td>\n",
       "      <td>A Tribe Called Quest</td>\n",
       "      <td>rap</td>\n",
       "    </tr>\n",
       "  </tbody>\n",
       "</table>\n",
       "</div>"
      ],
      "text/plain": [
       "        User_ID                       Track                Artist       Genre\n",
       "23727  F0CF11C1                Autumn Dream                 Joyce   classical\n",
       "29673  3AD83567                    Unstable              Chaotica        rock\n",
       "24201   23F6CE9   Have A Little Faith In Me            John Hiatt         pop\n",
       "28644  55D3CE3D               This Is a Way            David Choi         pop\n",
       "46318  C5CE21AB             I Need Somebody           Emma Muscat         pop\n",
       "42597  B4910255  The Final Thing on My Mind   The Pineapple Thief        rock\n",
       "27924  708216EC                   Automatic            Dead Disco        rock\n",
       "35164  EE36C51B      Take Me Into Your Skin          Trentemöller  electronic\n",
       "54107  9E1B2FEF                 Rapper Shot            Don Streat         rap\n",
       "34669  D8F9AEEE                Conrad Tokyo  A Tribe Called Quest         rap"
      ]
     },
     "execution_count": 22,
     "metadata": {},
     "output_type": "execute_result"
    }
   ],
   "source": [
    "# Write 10 samples of the first four columns\n",
    "df[['User_ID', 'Track', 'Artist', 'Genre']].sample(10)"
   ]
  },
  {
   "cell_type": "code",
   "execution_count": 23,
   "metadata": {},
   "outputs": [
    {
     "name": "stdout",
     "output_type": "stream",
     "text": [
      "The column User_ID has 41748 unique and 0 null values.\n",
      "The column Track has 39666 unique and 1343 null values.\n",
      "The column Artist has 37806 unique and 7567 null values.\n",
      "The column Genre has 268 unique and 1198 null values.\n"
     ]
    }
   ],
   "source": [
    "# Count unique records and null values of the columns\n",
    "for col in ['User_ID', 'Track', 'Artist', 'Genre']:\n",
    "    print(\n",
    "        f'The column {col} has {df[col].nunique()} unique and {df[col].isna().sum()} null values.')"
   ]
  },
  {
   "cell_type": "markdown",
   "metadata": {},
   "source": [
    "The columns `User_ID` has 41.748 unique records of 8 characters, some of them are 7 but we asume the first number is 0 and that there are no problems with the format.\n",
    "\n",
    "The track, artist name and genre correspond to the way the distributor filled the form. We are more concerned with the way that we found many null values, that we are going to fill later."
   ]
  },
  {
   "cell_type": "code",
   "execution_count": 24,
   "metadata": {},
   "outputs": [
    {
     "data": {
      "text/plain": [
       "55645        pop\n",
       "4804      rusrap\n",
       "21207    country\n",
       "41729     ruspop\n",
       "53788      indie\n",
       "60284      indie\n",
       "11292    rusrock\n",
       "55053      local\n",
       "4257       dance\n",
       "18017    holiday\n",
       "Name: Genre, dtype: object"
      ]
     },
     "execution_count": 24,
     "metadata": {},
     "output_type": "execute_result"
    }
   ],
   "source": [
    "# Write 10 samples of the column 'Genre'\n",
    "df['Genre'].sample(10)"
   ]
  },
  {
   "cell_type": "code",
   "execution_count": 25,
   "metadata": {},
   "outputs": [
    {
     "data": {
      "text/plain": [
       "array(['acid', 'acoustic', 'action', 'adult', 'africa', 'afrikaans',\n",
       "       'alternative', 'ambient', 'americana', 'animated', 'anime',\n",
       "       'arabesk', 'arabic', 'arena', 'argentinetango', 'art', 'audiobook',\n",
       "       'avantgarde', 'axé', 'baile', 'balkan', 'beats', 'bigroom',\n",
       "       'black', 'bluegrass', 'blues', 'bollywood', 'bossa', 'brazilian',\n",
       "       'breakbeat', 'breaks', 'broadway', 'cantautori', 'cantopop',\n",
       "       'canzone', 'caribbean', 'caucasian', 'celtic', 'chamber',\n",
       "       'children', 'chill', 'chinese', 'choral', 'christian', 'christmas',\n",
       "       'classical', 'classicmetal', 'club', 'colombian', 'comedy',\n",
       "       'conjazz', 'contemporary', 'country', 'cuban', 'dance',\n",
       "       'dancehall', 'dancepop', 'dark', 'death', 'deep', 'deutschrock',\n",
       "       'deutschspr', 'dirty', 'disco', 'dnb', 'documentary', 'downbeat',\n",
       "       'downtempo', 'drum', 'dub', 'dubstep', 'eastern', 'easy',\n",
       "       'electronic', 'electropop', 'emo', 'entehno', 'epicmetal',\n",
       "       'estrada', 'ethnic', 'eurofolk', 'european', 'experimental',\n",
       "       'extrememetal', 'fado', 'film', 'fitness', 'flamenco', 'folk',\n",
       "       'folklore', 'folkmetal', 'folkrock', 'folktronica', 'forró',\n",
       "       'frankreich', 'französisch', 'french', 'funk', 'future', 'gangsta',\n",
       "       'garage', 'german', 'ghazal', 'gitarre', 'glitch', 'gospel',\n",
       "       'gothic', 'grime', 'grunge', 'gypsy', 'handsup', \"hard'n'heavy\",\n",
       "       'hardcore', 'hardstyle', 'hardtechno', 'hip', 'hip-hop', 'hiphop',\n",
       "       'historisch', 'holiday', 'hop', 'horror', 'house', 'idm',\n",
       "       'independent', 'indian', 'indie', 'indipop', 'industrial',\n",
       "       'inspirational', 'instrumental', 'international', 'irish', 'jam',\n",
       "       'japanese', 'jazz', 'jewish', 'jpop', 'jungle', 'k-pop',\n",
       "       'karadeniz', 'karaoke', 'kayokyoku', 'korean', 'laiko', 'latin',\n",
       "       'latino', 'leftfield', 'local', 'lounge', 'loungeelectronic',\n",
       "       'lovers', 'malaysian', 'mandopop', 'marschmusik', 'meditative',\n",
       "       'mediterranean', 'melodic', 'metal', 'metalcore', 'mexican',\n",
       "       'middle', 'minimal', 'miscellaneous', 'modern', 'mood', 'mpb',\n",
       "       'muslim', 'native', 'neoklassik', 'neue', 'new', 'newage',\n",
       "       'newwave', 'nu', 'nujazz', 'numetal', 'oceania', 'old', 'opera',\n",
       "       'orchestral', 'other', 'piano', 'pop', 'popelectronic',\n",
       "       'popeurodance', 'post', 'posthardcore', 'postrock', 'power',\n",
       "       'progmetal', 'progressive', 'psychedelic', 'punjabi', 'punk',\n",
       "       'quebecois', 'ragga', 'ram', 'rancheras', 'rap', 'rave', 'reggae',\n",
       "       'reggaeton', 'regional', 'relax', 'religious', 'retro', 'rhythm',\n",
       "       'rnb', 'rnr', 'rock', 'rockabilly', 'romance', 'roots', 'ruspop',\n",
       "       'rusrap', 'rusrock', 'salsa', 'samba', 'schlager', 'self',\n",
       "       'sertanejo', 'shoegazing', 'showtunes', 'singer', 'ska', 'slow',\n",
       "       'smooth', 'soul', 'soulful', 'sound', 'soundtrack', 'southern',\n",
       "       'specialty', 'speech', 'spiritual', 'sport', 'stonerrock', 'surf',\n",
       "       'swing', 'synthpop', 'sängerportrait', 'tango', 'tanzorchester',\n",
       "       'taraftar', 'tech', 'techno', 'thrash', 'top', 'traditional',\n",
       "       'tradjazz', 'trance', 'tribal', 'trip', 'triphop', 'tropical',\n",
       "       'türk', 'türkçe', 'urban', 'uzbek', 'variété', 'vi', 'videogame',\n",
       "       'vocal', 'western', 'world', 'worldbeat', 'ïîï', nan], dtype=object)"
      ]
     },
     "execution_count": 25,
     "metadata": {},
     "output_type": "execute_result"
    }
   ],
   "source": [
    "# Search for implicit duplicates\n",
    "df['Genre'].sort_values().unique()"
   ]
  },
  {
   "cell_type": "code",
   "execution_count": 26,
   "metadata": {},
   "outputs": [],
   "source": [
    "# Change the genres of 'hip' and 'hop' for 'hiphop'\n",
    "df['Genre'].replace({'hip': 'Hip-Hop',\n",
    "                     'hop': 'Hip-Hop',\n",
    "                     'hiphop': 'Hip-Hop'},\n",
    "                    inplace=True)"
   ]
  },
  {
   "cell_type": "markdown",
   "metadata": {},
   "source": [
    "We had to change the format and write the first letter of the genre in capital letters. And we search for explicit duplicates when we found the word `hip` as a genre."
   ]
  },
  {
   "cell_type": "code",
   "execution_count": 27,
   "metadata": {},
   "outputs": [
    {
     "data": {
      "text/html": [
       "<div>\n",
       "<style scoped>\n",
       "    .dataframe tbody tr th:only-of-type {\n",
       "        vertical-align: middle;\n",
       "    }\n",
       "\n",
       "    .dataframe tbody tr th {\n",
       "        vertical-align: top;\n",
       "    }\n",
       "\n",
       "    .dataframe thead th {\n",
       "        text-align: right;\n",
       "    }\n",
       "</style>\n",
       "<table border=\"1\" class=\"dataframe\">\n",
       "  <thead>\n",
       "    <tr style=\"text-align: right;\">\n",
       "      <th></th>\n",
       "      <th>City</th>\n",
       "      <th>Hour_of_Play</th>\n",
       "      <th>Day_of_the_Week</th>\n",
       "    </tr>\n",
       "  </thead>\n",
       "  <tbody>\n",
       "    <tr>\n",
       "      <th>46428</th>\n",
       "      <td>Springfield</td>\n",
       "      <td>21:17:38</td>\n",
       "      <td>Monday</td>\n",
       "    </tr>\n",
       "    <tr>\n",
       "      <th>17168</th>\n",
       "      <td>Springfield</td>\n",
       "      <td>08:25:31</td>\n",
       "      <td>Friday</td>\n",
       "    </tr>\n",
       "    <tr>\n",
       "      <th>46661</th>\n",
       "      <td>Shelbyville</td>\n",
       "      <td>20:08:23</td>\n",
       "      <td>Friday</td>\n",
       "    </tr>\n",
       "    <tr>\n",
       "      <th>27640</th>\n",
       "      <td>Springfield</td>\n",
       "      <td>14:16:47</td>\n",
       "      <td>Friday</td>\n",
       "    </tr>\n",
       "    <tr>\n",
       "      <th>16078</th>\n",
       "      <td>Shelbyville</td>\n",
       "      <td>21:55:09</td>\n",
       "      <td>Wednesday</td>\n",
       "    </tr>\n",
       "    <tr>\n",
       "      <th>50110</th>\n",
       "      <td>Shelbyville</td>\n",
       "      <td>08:40:07</td>\n",
       "      <td>Friday</td>\n",
       "    </tr>\n",
       "    <tr>\n",
       "      <th>3704</th>\n",
       "      <td>Shelbyville</td>\n",
       "      <td>14:22:08</td>\n",
       "      <td>Friday</td>\n",
       "    </tr>\n",
       "    <tr>\n",
       "      <th>49279</th>\n",
       "      <td>Springfield</td>\n",
       "      <td>09:25:48</td>\n",
       "      <td>Friday</td>\n",
       "    </tr>\n",
       "    <tr>\n",
       "      <th>9140</th>\n",
       "      <td>Springfield</td>\n",
       "      <td>13:20:27</td>\n",
       "      <td>Friday</td>\n",
       "    </tr>\n",
       "    <tr>\n",
       "      <th>3501</th>\n",
       "      <td>Shelbyville</td>\n",
       "      <td>08:58:18</td>\n",
       "      <td>Monday</td>\n",
       "    </tr>\n",
       "  </tbody>\n",
       "</table>\n",
       "</div>"
      ],
      "text/plain": [
       "              City Hour_of_Play Day_of_the_Week\n",
       "46428  Springfield     21:17:38          Monday\n",
       "17168  Springfield     08:25:31          Friday\n",
       "46661  Shelbyville     20:08:23          Friday\n",
       "27640  Springfield     14:16:47          Friday\n",
       "16078  Shelbyville     21:55:09       Wednesday\n",
       "50110  Shelbyville     08:40:07          Friday\n",
       "3704   Shelbyville     14:22:08          Friday\n",
       "49279  Springfield     09:25:48          Friday\n",
       "9140   Springfield     13:20:27          Friday\n",
       "3501   Shelbyville     08:58:18          Monday"
      ]
     },
     "execution_count": 27,
     "metadata": {},
     "output_type": "execute_result"
    }
   ],
   "source": [
    "# Write 10 samples of the three last columns\n",
    "df[['City', 'Hour_of_Play', 'Day_of_the_Week']].sample(10)"
   ]
  },
  {
   "cell_type": "markdown",
   "metadata": {},
   "source": [
    "The last three columns have no problem. Maybe we will have to change the type of data later, but it is not something that require our attention now."
   ]
  },
  {
   "cell_type": "markdown",
   "metadata": {},
   "source": [
    "# <span style=\"color:#0F19C9\">Improving the data</span>\n",
    "\n",
    "We will fix the null values, the duplicates and finally improve the type of data for each column."
   ]
  },
  {
   "cell_type": "code",
   "execution_count": 28,
   "metadata": {},
   "outputs": [
    {
     "data": {
      "text/plain": [
       "User_ID               0\n",
       "Track              1343\n",
       "Artist             7567\n",
       "Genre              1198\n",
       "City                  0\n",
       "Hour_of_Play          0\n",
       "Day_of_the_Week       0\n",
       "dtype: int64"
      ]
     },
     "execution_count": 28,
     "metadata": {},
     "output_type": "execute_result"
    }
   ],
   "source": [
    "# Sum null values from the DataFrame\n",
    "df.isna().sum()"
   ]
  },
  {
   "cell_type": "code",
   "execution_count": 29,
   "metadata": {},
   "outputs": [],
   "source": [
    "# Fill null values of 'Track', 'Artist' and 'Genre\n",
    "df.fillna('Unknown', inplace=True)"
   ]
  },
  {
   "cell_type": "code",
   "execution_count": 30,
   "metadata": {},
   "outputs": [
    {
     "name": "stdout",
     "output_type": "stream",
     "text": [
      " We will drop 3869 duplicates\n"
     ]
    }
   ],
   "source": [
    "# Search for problem duplicates\n",
    "print(' We will drop {} duplicates'.format(\n",
    "    df.duplicated(subset=['User_ID', 'Hour_of_Play']).sum()))\n",
    "df.drop_duplicates(subset=['User_ID', 'Hour_of_Play'], inplace=True)"
   ]
  },
  {
   "cell_type": "code",
   "execution_count": 31,
   "metadata": {},
   "outputs": [
    {
     "data": {
      "text/plain": [
       "0"
      ]
     },
     "execution_count": 31,
     "metadata": {},
     "output_type": "execute_result"
    }
   ],
   "source": [
    "# Search for other duplicates\n",
    "df.duplicated().sum()"
   ]
  },
  {
   "cell_type": "code",
   "execution_count": 32,
   "metadata": {},
   "outputs": [],
   "source": [
    "# Confirm the type of 'Hour_of_Play'\n",
    "df['Hour_of_Play'] = (pd.to_datetime(df['Hour_of_Play'], format='%H:%M:%S')\n",
    "                      .dt.time)"
   ]
  },
  {
   "cell_type": "code",
   "execution_count": 33,
   "metadata": {},
   "outputs": [],
   "source": [
    "# Change the format of 'Genre'\n",
    "df['Genre'] = df['Genre'].apply(lambda x: x.title())"
   ]
  },
  {
   "cell_type": "markdown",
   "metadata": {},
   "source": [
    "We only found null values in the columns `Track` and `Artist` but it does not affect our analysis so we kept them and change the NaN value for the string `Unknown` and now we have 0 null values.\n",
    "\n",
    "Then we found some records when the same user `User_ID` played two songs at the same time `Hour_of_Play` which is not possible, so we delete them and kept just the first record. After, we search for other duplicates but there are not.\n",
    "\n",
    "Finally we confirm that the column `Hour_of_Play` was type `datetime` for the analysis."
   ]
  },
  {
   "cell_type": "code",
   "execution_count": 34,
   "metadata": {},
   "outputs": [
    {
     "name": "stdout",
     "output_type": "stream",
     "text": [
      "<class 'pandas.core.frame.DataFrame'>\n",
      "Index: 61210 entries, 0 to 65078\n",
      "Data columns (total 7 columns):\n",
      " #   Column           Non-Null Count  Dtype \n",
      "---  ------           --------------  ----- \n",
      " 0   User_ID          61210 non-null  object\n",
      " 1   Track            61210 non-null  object\n",
      " 2   Artist           61210 non-null  object\n",
      " 3   Genre            61210 non-null  object\n",
      " 4   City             61210 non-null  object\n",
      " 5   Hour_of_Play     61210 non-null  object\n",
      " 6   Day_of_the_Week  61210 non-null  object\n",
      "dtypes: object(7)\n",
      "memory usage: 3.7+ MB\n"
     ]
    }
   ],
   "source": [
    "df.info()"
   ]
  },
  {
   "cell_type": "code",
   "execution_count": 35,
   "metadata": {},
   "outputs": [],
   "source": [
    "# Save DataFrame in csv file\n",
    "df.to_csv('../Data/Processed/processed_data.csv', index=False)"
   ]
  },
  {
   "cell_type": "markdown",
   "metadata": {},
   "source": [
    "We can say that we conclude 61.210 correct entries and 7 columns."
   ]
  }
 ],
 "metadata": {
  "kernelspec": {
   "display_name": "base",
   "language": "python",
   "name": "python3"
  },
  "language_info": {
   "codemirror_mode": {
    "name": "ipython",
    "version": 3
   },
   "file_extension": ".py",
   "mimetype": "text/x-python",
   "name": "python",
   "nbconvert_exporter": "python",
   "pygments_lexer": "ipython3",
   "version": "3.11.7"
  }
 },
 "nbformat": 4,
 "nbformat_minor": 2
}
